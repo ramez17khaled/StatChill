{
 "cells": [
  {
   "cell_type": "code",
   "execution_count": 6,
   "metadata": {},
   "outputs": [],
   "source": [
    "import pandas as pd\n",
    "import numpy as np\n",
    "import sys\n",
    "import GUI"
   ]
  },
  {
   "cell_type": "code",
   "execution_count": null,
   "metadata": {},
   "outputs": [],
   "source": [
    "def main(meta_file_path, file_path, sheet, output_path):\n",
    "    # Load the MetaData\n",
    "    if meta_file_path.endswith(('.xlsx', '.xls')):\n",
    "        meta_data = pd.read_excel(meta_file_path)\n",
    "        meta_data.columns = [col.lower().replace(' ', '_') for col in meta_data.columns]\n",
    "    elif meta_file_path.endswith('.csv'):\n",
    "        meta_data = pd.read_csv(meta_file_path)\n",
    "        meta_data.columns = [col.lower().replace(' ', '_') for col in meta_data.columns]\n",
    "    else:\n",
    "        raise ValueError(\"Unsupported file format\")\n",
    "\n",
    "    # Load the main data\n",
    "    if file_path.endswith(('.xlsx', '.xls')):\n",
    "        ThermoData = pd.read_excel(file_path, sheet_name=sheet)\n",
    "        ThermoData.columns = [col.lower().replace(' ', '_') for col in ThermoData.columns]\n",
    "    elif file_path.endswith('.csv'):\n",
    "        ThermoData = pd.read_csv(file_path)\n",
    "        ThermoData.columns = [col.lower().replace(' ', '_') for col in ThermoData.columns]\n",
    "    else:\n",
    "        raise ValueError(\"Unsupported file format\")\n",
    "\n",
    "if __name__ == \"__main__\":\n",
    "    if len(sys.argv) != 4:\n",
    "        print(\"Usage: python pls_da_method.py <file_path> <sheet> <output_path>\")\n",
    "        sys.exit(1)\n",
    "    main(sys.argv[1], sys.argv[2], sys.argv[3])"
   ]
  }
 ],
 "metadata": {
  "kernelspec": {
   "display_name": "Python 3",
   "language": "python",
   "name": "python3"
  },
  "language_info": {
   "codemirror_mode": {
    "name": "ipython",
    "version": 3
   },
   "file_extension": ".py",
   "mimetype": "text/x-python",
   "name": "python",
   "nbconvert_exporter": "python",
   "pygments_lexer": "ipython3",
   "version": "3.8.0"
  }
 },
 "nbformat": 4,
 "nbformat_minor": 2
}
